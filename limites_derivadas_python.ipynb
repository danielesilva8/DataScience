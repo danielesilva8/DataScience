{
  "nbformat": 4,
  "nbformat_minor": 0,
  "metadata": {
    "colab": {
      "provenance": [],
      "authorship_tag": "ABX9TyNUheaj6ZFK9H9YKRz9qPXR",
      "include_colab_link": true
    },
    "kernelspec": {
      "name": "python3",
      "display_name": "Python 3"
    },
    "language_info": {
      "name": "python"
    }
  },
  "cells": [
    {
      "cell_type": "markdown",
      "metadata": {
        "id": "view-in-github",
        "colab_type": "text"
      },
      "source": [
        "<a href=\"https://colab.research.google.com/github/danielesilva8/DataScience/blob/master/limites_derivadas_python.ipynb\" target=\"_parent\"><img src=\"https://colab.research.google.com/assets/colab-badge.svg\" alt=\"Open In Colab\"/></a>"
      ]
    },
    {
      "cell_type": "markdown",
      "source": [
        "Aplicações de limites e derivadas\n"
      ],
      "metadata": {
        "id": "qY-e0TpSlz7K"
      }
    },
    {
      "cell_type": "markdown",
      "source": [
        "Bibliotecas"
      ],
      "metadata": {
        "id": "yGtub-nXl_K8"
      }
    },
    {
      "cell_type": "code",
      "source": [
        "# gerais\n",
        "import numpy as np # calculo numerico\n",
        "import sympy as smp # limites e derivadas\n",
        "import matplotlib.pyplot as plt # grafico"
      ],
      "metadata": {
        "id": "Kh9UEuWFmA_D"
      },
      "execution_count": 1,
      "outputs": []
    },
    {
      "cell_type": "markdown",
      "source": [
        "Limites"
      ],
      "metadata": {
        "id": "nPoPo9iDmRUf"
      }
    },
    {
      "cell_type": "code",
      "source": [
        "# analise limites\n",
        "x= smp.Symbol('x')"
      ],
      "metadata": {
        "id": "cABS5NbDmTzw"
      },
      "execution_count": 2,
      "outputs": []
    },
    {
      "cell_type": "code",
      "source": [
        "# analise limites\n",
        "funcao = ((x**2 + x - 2)/ (x - 1))"
      ],
      "metadata": {
        "id": "0yQ2qE85mmgl"
      },
      "execution_count": 3,
      "outputs": []
    },
    {
      "cell_type": "code",
      "source": [
        "# analise limites\n",
        "smp.limit(funcao, x, 1)"
      ],
      "metadata": {
        "colab": {
          "base_uri": "https://localhost:8080/",
          "height": 37
        },
        "id": "AG-3hOYkmqp5",
        "outputId": "828d145a-5373-49fd-a760-f92a4d4e877c"
      },
      "execution_count": 4,
      "outputs": [
        {
          "output_type": "execute_result",
          "data": {
            "text/plain": [
              "3"
            ],
            "text/latex": "$\\displaystyle 3$"
          },
          "metadata": {},
          "execution_count": 4
        }
      ]
    },
    {
      "cell_type": "code",
      "source": [
        "# analise limites\n",
        "smp.plot(funcao)"
      ],
      "metadata": {
        "colab": {
          "base_uri": "https://localhost:8080/",
          "height": 504
        },
        "id": "bEJbGB0gmx_J",
        "outputId": "7c9b8b1b-c1fe-4642-e7ed-4373928a6a79"
      },
      "execution_count": 5,
      "outputs": [
        {
          "output_type": "display_data",
          "data": {
            "text/plain": [
              "<Figure size 640x480 with 1 Axes>"
            ],
            "image/png": "[encoded data removed]"
          },
          "metadata": {}
        },
        {
          "output_type": "execute_result",
          "data": {
            "text/plain": [
              "<sympy.plotting.backends.matplotlibbackend.matplotlib.MatplotlibBackend at 0x784bdd84cfd0>"
            ]
          },
          "metadata": {},
          "execution_count": 5
        }
      ]
    },
    {
      "cell_type": "markdown",
      "source": [
        "Estudo de limites da função logistica\n"
      ],
      "metadata": {
        "id": "cC8iufLZnIlE"
      }
    },
    {
      "cell_type": "code",
      "source": [
        "# analise limite\n",
        "x = smp.Symbol('x')\n"
      ],
      "metadata": {
        "id": "ZmswGZCnnN29"
      },
      "execution_count": 6,
      "outputs": []
    },
    {
      "cell_type": "code",
      "source": [
        "# analise limite\n",
        "funcao = 1 / (1 + smp.exp(-x))\n",
        "funcao"
      ],
      "metadata": {
        "colab": {
          "base_uri": "https://localhost:8080/",
          "height": 52
        },
        "id": "u9KJyhy2nR1u",
        "outputId": "18fc8c53-e941-463c-cf7a-33a1b65b9a51"
      },
      "execution_count": 7,
      "outputs": [
        {
          "output_type": "execute_result",
          "data": {
            "text/plain": [
              "1/(1 + exp(-x))"
            ],
            "text/latex": "$\\displaystyle \\frac{1}{1 + e^{- x}}$"
          },
          "metadata": {},
          "execution_count": 7
        }
      ]
    },
    {
      "cell_type": "code",
      "source": [
        "# analise limite\n",
        "\n",
        "# limite tendendo a zero\n",
        "smp.limit(funcao, x, 0)\n"
      ],
      "metadata": {
        "colab": {
          "base_uri": "https://localhost:8080/",
          "height": 51
        },
        "id": "MlFrVI9rniaa",
        "outputId": "df73af84-2b43-4b90-eab2-db493938b1f1"
      },
      "execution_count": 8,
      "outputs": [
        {
          "output_type": "execute_result",
          "data": {
            "text/plain": [
              "1/2"
            ],
            "text/latex": "$\\displaystyle \\frac{1}{2}$"
          },
          "metadata": {},
          "execution_count": 8
        }
      ]
    },
    {
      "cell_type": "code",
      "source": [
        "# analise limite\n",
        "\n",
        "# limite tendendo ao infinito\n",
        "smp.limit(funcao, x, smp.oo)"
      ],
      "metadata": {
        "colab": {
          "base_uri": "https://localhost:8080/",
          "height": 37
        },
        "id": "S92hnoYpnr0W",
        "outputId": "77effdd3-ee19-4715-b383-46d70800c942"
      },
      "execution_count": 9,
      "outputs": [
        {
          "output_type": "execute_result",
          "data": {
            "text/plain": [
              "1"
            ],
            "text/latex": "$\\displaystyle 1$"
          },
          "metadata": {},
          "execution_count": 9
        }
      ]
    },
    {
      "cell_type": "code",
      "source": [
        "# analise limite\n",
        "\n",
        "# limite tendendo ao infinito\n",
        "smp.limit(funcao, x, -smp.oo)"
      ],
      "metadata": {
        "colab": {
          "base_uri": "https://localhost:8080/",
          "height": 37
        },
        "id": "nU5kpECyoN0L",
        "outputId": "b28232e8-bfc6-4989-d4cb-16b77dc1a387"
      },
      "execution_count": 10,
      "outputs": [
        {
          "output_type": "execute_result",
          "data": {
            "text/plain": [
              "0"
            ],
            "text/latex": "$\\displaystyle 0$"
          },
          "metadata": {},
          "execution_count": 10
        }
      ]
    },
    {
      "cell_type": "markdown",
      "source": [
        "Derivadas\n"
      ],
      "metadata": {
        "id": "QUAo_bsOoYnl"
      }
    },
    {
      "cell_type": "code",
      "source": [
        "# obter a derivada\n",
        "x = smp.Symbol('x')"
      ],
      "metadata": {
        "id": "XaPbNIDCobZn"
      },
      "execution_count": 11,
      "outputs": []
    },
    {
      "cell_type": "code",
      "source": [
        "# obter a derivada\n",
        "\n",
        "f = x**2\n",
        "f\n"
      ],
      "metadata": {
        "colab": {
          "base_uri": "https://localhost:8080/",
          "height": 38
        },
        "id": "JrwwLoZCoioI",
        "outputId": "e9e4158f-a0f7-4c1d-ddee-d9fe23c2a943"
      },
      "execution_count": 12,
      "outputs": [
        {
          "output_type": "execute_result",
          "data": {
            "text/plain": [
              "x**2"
            ],
            "text/latex": "$\\displaystyle x^{2}$"
          },
          "metadata": {},
          "execution_count": 12
        }
      ]
    },
    {
      "cell_type": "code",
      "source": [
        "# obter a derivada\n",
        "\n",
        "smp.diff(f)\n"
      ],
      "metadata": {
        "colab": {
          "base_uri": "https://localhost:8080/",
          "height": 38
        },
        "id": "N2PsFz1gossK",
        "outputId": "bc46d60c-8202-4db3-bc07-c6c135e235ca"
      },
      "execution_count": 13,
      "outputs": [
        {
          "output_type": "execute_result",
          "data": {
            "text/plain": [
              "2*x"
            ],
            "text/latex": "$\\displaystyle 2 x$"
          },
          "metadata": {},
          "execution_count": 13
        }
      ]
    },
    {
      "cell_type": "code",
      "source": [
        "# graficos\n",
        "funcao_original = x**2\n",
        "funcao_derivada = smp.diff(funcao_original)\n",
        "funcao_original, funcao_derivada"
      ],
      "metadata": {
        "colab": {
          "base_uri": "https://localhost:8080/"
        },
        "id": "yeQQg-SLo3br",
        "outputId": "14fb00c0-31e5-418a-f647-8cb5f92d4ae5"
      },
      "execution_count": 15,
      "outputs": [
        {
          "output_type": "execute_result",
          "data": {
            "text/plain": [
              "(x**2, 2*x)"
            ]
          },
          "metadata": {},
          "execution_count": 15
        }
      ]
    },
    {
      "cell_type": "code",
      "source": [
        "\n",
        "# graficos\n",
        "\n",
        "funcao_original = smp.lambdify(x, funcao_original)\n",
        "funcao_derivada = smp.lambdify(x, funcao_derivada)\n"
      ],
      "metadata": {
        "id": "2GYMMCGupJDG"
      },
      "execution_count": 16,
      "outputs": []
    },
    {
      "cell_type": "code",
      "source": [
        "# graficos\n",
        "\n",
        "# grafico funcao original\n",
        "y = [funcao_original(i) for i in range(-100, 100)]\n",
        "plt.plot(y)"
      ],
      "metadata": {
        "colab": {
          "base_uri": "https://localhost:8080/",
          "height": 447
        },
        "id": "WyzrI5AxpY2h",
        "outputId": "eda25bba-ebb7-453b-d06f-a733691b57c3"
      },
      "execution_count": 17,
      "outputs": [
        {
          "output_type": "execute_result",
          "data": {
            "text/plain": [
              "[<matplotlib.lines.Line2D at 0x784ba9ef23d0>]"
            ]
          },
          "metadata": {},
          "execution_count": 17
        },
        {
          "output_type": "display_data",
          "data": {
            "text/plain": [
              "<Figure size 640x480 with 1 Axes>"
            ],
            "image/png": "[encoded data removed]"
          },
          "metadata": {}
        }
      ]
    },
    {
      "cell_type": "code",
      "source": [
        "\n",
        "smp.diff(f)\n",
        "# graficos\n",
        "\n",
        "# grafico funcao derivada\n",
        "y_d = [funcao_derivada(i) for i in range(-100, 100)]\n",
        "plt.plot(y_d)"
      ],
      "metadata": {
        "colab": {
          "base_uri": "https://localhost:8080/",
          "height": 447
        },
        "id": "DZDwWvFUprUX",
        "outputId": "6fb8bad7-3060-4922-c456-62e06852f177"
      },
      "execution_count": 18,
      "outputs": [
        {
          "output_type": "execute_result",
          "data": {
            "text/plain": [
              "[<matplotlib.lines.Line2D at 0x784ba9e71090>]"
            ]
          },
          "metadata": {},
          "execution_count": 18
        },
        {
          "output_type": "display_data",
          "data": {
            "text/plain": [
              "<Figure size 640x480 with 1 Axes>"
            ],
            "image/png": "[encoded data removed]"
          },
          "metadata": {}
        }
      ]
    }
  ]
}