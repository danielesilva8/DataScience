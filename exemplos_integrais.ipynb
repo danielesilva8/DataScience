{
  "nbformat": 4,
  "nbformat_minor": 0,
  "metadata": {
    "colab": {
      "provenance": [],
      "authorship_tag": "ABX9TyNNWntW0YoXETgW+aHPZQJ7",
      "include_colab_link": true
    },
    "kernelspec": {
      "name": "python3",
      "display_name": "Python 3"
    },
    "language_info": {
      "name": "python"
    }
  },
  "cells": [
    {
      "cell_type": "markdown",
      "metadata": {
        "id": "view-in-github",
        "colab_type": "text"
      },
      "source": [
        "<a href=\"https://colab.research.google.com/github/danielesilva8/DataScience/blob/master/exemplos_integrais.ipynb\" target=\"_parent\"><img src=\"https://colab.research.google.com/assets/colab-badge.svg\" alt=\"Open In Colab\"/></a>"
      ]
    },
    {
      "cell_type": "markdown",
      "source": [
        "Aplicações em integrais"
      ],
      "metadata": {
        "id": "zPyOwNh3tS8i"
      }
    },
    {
      "cell_type": "markdown",
      "source": [
        "Bibliotecas"
      ],
      "metadata": {
        "id": "ePlBPWmQtXBL"
      }
    },
    {
      "cell_type": "code",
      "source": [
        "# gerais\n",
        "import numpy as np # calculo numerico\n",
        "import pandas as pd # analise de dados\n",
        "import sympy as smp #limites, derivadas e integrais\n",
        "import matplotlib.pyplot as plt # graficos"
      ],
      "metadata": {
        "id": "Q-GxXgIitY4i"
      },
      "execution_count": 2,
      "outputs": []
    },
    {
      "cell_type": "markdown",
      "source": [
        "Exemplo inicial"
      ],
      "metadata": {
        "id": "l7teU-6Rt02Z"
      }
    },
    {
      "cell_type": "markdown",
      "source": [
        "Obter integral"
      ],
      "metadata": {
        "id": "L-dVjHkGt2s_"
      }
    },
    {
      "cell_type": "code",
      "source": [
        "# integral no pyrhon\n",
        "x = smp.Symbol('x')\n",
        "x"
      ],
      "metadata": {
        "colab": {
          "base_uri": "https://localhost:8080/",
          "height": 38
        },
        "id": "0EgwGESSt45n",
        "outputId": "e6ae90bc-0286-4396-f85b-1c93f36b66d4"
      },
      "execution_count": 3,
      "outputs": [
        {
          "output_type": "execute_result",
          "data": {
            "text/plain": [
              "x"
            ],
            "text/latex": "$\\displaystyle x$"
          },
          "metadata": {},
          "execution_count": 3
        }
      ]
    },
    {
      "cell_type": "code",
      "source": [
        "f = 2*x**2\n",
        "f"
      ],
      "metadata": {
        "colab": {
          "base_uri": "https://localhost:8080/",
          "height": 38
        },
        "id": "Y6L4guJduCBN",
        "outputId": "8e945a22-779e-47fa-84e3-3d23e83d5047"
      },
      "execution_count": 5,
      "outputs": [
        {
          "output_type": "execute_result",
          "data": {
            "text/plain": [
              "2*x**2"
            ],
            "text/latex": "$\\displaystyle 2 x^{2}$"
          },
          "metadata": {},
          "execution_count": 5
        }
      ]
    },
    {
      "cell_type": "code",
      "source": [
        "\n",
        "smp.integrate(f)"
      ],
      "metadata": {
        "colab": {
          "base_uri": "https://localhost:8080/",
          "height": 54
        },
        "id": "AV-QZEK6uHoC",
        "outputId": "47072584-e01f-4c03-dc97-001686d6ae74"
      },
      "execution_count": 6,
      "outputs": [
        {
          "output_type": "execute_result",
          "data": {
            "text/plain": [
              "2*x**3/3"
            ],
            "text/latex": "$\\displaystyle \\frac{2 x^{3}}{3}$"
          },
          "metadata": {},
          "execution_count": 6
        }
      ]
    },
    {
      "cell_type": "markdown",
      "source": [
        "soma dos retangulos"
      ],
      "metadata": {
        "id": "aK1-VtUeuP4U"
      }
    },
    {
      "cell_type": "code",
      "source": [
        "# intervalo\n",
        "minimo = 0\n",
        "maximo = 24\n",
        "n = 8"
      ],
      "metadata": {
        "id": "jWXvyzkNuSVH"
      },
      "execution_count": 7,
      "outputs": []
    },
    {
      "cell_type": "code",
      "source": [
        "\n",
        "# tamanho dos intervalos\n",
        "dx = (maximo - minimo) / n\n",
        "dx"
      ],
      "metadata": {
        "colab": {
          "base_uri": "https://localhost:8080/"
        },
        "id": "8wElRIt7uasM",
        "outputId": "e3bb1890-bfcb-4053-d125-b120239761d9"
      },
      "execution_count": 9,
      "outputs": [
        {
          "output_type": "execute_result",
          "data": {
            "text/plain": [
              "3.0"
            ]
          },
          "metadata": {},
          "execution_count": 9
        }
      ]
    },
    {
      "cell_type": "code",
      "source": [
        "\n",
        "# transformar a funcao para ser utilizada em operações\n",
        "x = smp.Symbol('x')\n",
        "f = 2*x**2\n",
        "f_x = smp.lambdify(x, f)"
      ],
      "metadata": {
        "id": "WE7spq9fufQe"
      },
      "execution_count": 10,
      "outputs": []
    },
    {
      "cell_type": "code",
      "source": [
        "\n",
        "# criar a sequencia para o eixo x\n",
        "eixo_x = np.arange(minimo, maximo+dx, dx)\n",
        "eixo_x"
      ],
      "metadata": {
        "colab": {
          "base_uri": "https://localhost:8080/"
        },
        "id": "A6ukC6i7urS9",
        "outputId": "2238347d-8633-4503-bfa8-e1a7048a7274"
      },
      "execution_count": 13,
      "outputs": [
        {
          "output_type": "execute_result",
          "data": {
            "text/plain": [
              "array([ 0.,  3.,  6.,  9., 12., 15., 18., 21., 24.])"
            ]
          },
          "metadata": {},
          "execution_count": 13
        }
      ]
    },
    {
      "cell_type": "code",
      "source": [
        "\n",
        "# criar sequencia para eixo y\n",
        "eixo_y = [f_x(i) for i in eixo_x]\n",
        "eixo_y"
      ],
      "metadata": {
        "colab": {
          "base_uri": "https://localhost:8080/"
        },
        "id": "lU1h_uZ6uxZ6",
        "outputId": "ee0d110a-a55a-4b78-de2e-eab3c477d8e4"
      },
      "execution_count": 14,
      "outputs": [
        {
          "output_type": "execute_result",
          "data": {
            "text/plain": [
              "[0.0, 18.0, 72.0, 162.0, 288.0, 450.0, 648.0, 882.0, 1152.0]"
            ]
          },
          "metadata": {},
          "execution_count": 14
        }
      ]
    },
    {
      "cell_type": "code",
      "source": [
        "\n",
        "# criar o gráfico\n",
        "plt.bar(x = eixo_x, height = eixo_y, width=2) # grafico de barras\n",
        "plt.plot(eixo_x, eixo_y, color='k') # grafico de linhas\n",
        "plt.show()"
      ],
      "metadata": {
        "colab": {
          "base_uri": "https://localhost:8080/",
          "height": 432
        },
        "id": "vRHLQsmivApx",
        "outputId": "79d7f8b0-b70a-491a-aa51-8ace4fec7a9f"
      },
      "execution_count": 15,
      "outputs": [
        {
          "output_type": "display_data",
          "data": {
            "text/plain": [
              "<Figure size 640x480 with 1 Axes>"
            ],
            "image/png": "[encoded data removed]"
          },
          "metadata": {}
        }
      ]
    },
    {
      "cell_type": "code",
      "source": [
        "# intervalo\n",
        "fx_dx = [i*dx for i in eixo_y]\n",
        "fx_dx"
      ],
      "metadata": {
        "colab": {
          "base_uri": "https://localhost:8080/"
        },
        "id": "6wIXlcAOvhLm",
        "outputId": "a684f31b-1582-4916-81e6-8378c186ae51"
      },
      "execution_count": 17,
      "outputs": [
        {
          "output_type": "execute_result",
          "data": {
            "text/plain": [
              "[0.0, 54.0, 216.0, 486.0, 864.0, 1350.0, 1944.0, 2646.0, 3456.0]"
            ]
          },
          "metadata": {},
          "execution_count": 17
        }
      ]
    },
    {
      "cell_type": "code",
      "source": [
        "\n",
        "sum(fx_dx)"
      ],
      "metadata": {
        "colab": {
          "base_uri": "https://localhost:8080/"
        },
        "id": "Eg_JgQ4Cvo9X",
        "outputId": "f5b8bf1b-4747-4c6f-9f4a-b1700c369f4e"
      },
      "execution_count": 18,
      "outputs": [
        {
          "output_type": "execute_result",
          "data": {
            "text/plain": [
              "11016.0"
            ]
          },
          "metadata": {},
          "execution_count": 18
        }
      ]
    },
    {
      "cell_type": "markdown",
      "source": [
        "Area pela integral"
      ],
      "metadata": {
        "id": "IvlPUBX6v0Us"
      }
    },
    {
      "cell_type": "code",
      "source": [
        "# obter integral\n",
        "x = smp.Symbol('x')\n",
        "f = 2*x**2\n",
        "funcao_integral = smp.integrate(f)\n",
        "funcao_integral\n"
      ],
      "metadata": {
        "colab": {
          "base_uri": "https://localhost:8080/",
          "height": 54
        },
        "id": "RZsGAcwNwfxz",
        "outputId": "f7f47c77-039a-4e37-d6d6-572f6a7d4bb1"
      },
      "execution_count": 19,
      "outputs": [
        {
          "output_type": "execute_result",
          "data": {
            "text/plain": [
              "2*x**3/3"
            ],
            "text/latex": "$\\displaystyle \\frac{2 x^{3}}{3}$"
          },
          "metadata": {},
          "execution_count": 19
        }
      ]
    },
    {
      "cell_type": "code",
      "source": [
        "\n",
        "# criar a função\n",
        "f_x = smp.lambdify(x, funcao_integral)\n",
        "f_x"
      ],
      "metadata": {
        "colab": {
          "base_uri": "https://localhost:8080/"
        },
        "id": "SrB3oITawj6z",
        "outputId": "e8b5a7f5-f96c-40fa-d028-a2496f7865f2"
      },
      "execution_count": 21,
      "outputs": [
        {
          "output_type": "execute_result",
          "data": {
            "text/plain": [
              "<function _lambdifygenerated(x)>"
            ]
          },
          "metadata": {},
          "execution_count": 21
        }
      ]
    },
    {
      "cell_type": "code",
      "source": [
        "\n",
        "# obter o valor da integral\n",
        "f_x(24)"
      ],
      "metadata": {
        "colab": {
          "base_uri": "https://localhost:8080/"
        },
        "id": "t-Px070wwo3G",
        "outputId": "08dd58fd-64d5-4f52-accf-9fdfa789c6be"
      },
      "execution_count": 22,
      "outputs": [
        {
          "output_type": "execute_result",
          "data": {
            "text/plain": [
              "9216.0"
            ]
          },
          "metadata": {},
          "execution_count": 22
        }
      ]
    },
    {
      "cell_type": "code",
      "source": [
        "\n",
        "# obter o valor da integral\n",
        "f_x(24) - f_x(0)"
      ],
      "metadata": {
        "colab": {
          "base_uri": "https://localhost:8080/"
        },
        "id": "g4_sEOiqwsuH",
        "outputId": "76000239-a196-4f9f-fa52-84900db1ff6b"
      },
      "execution_count": 23,
      "outputs": [
        {
          "output_type": "execute_result",
          "data": {
            "text/plain": [
              "9216.0"
            ]
          },
          "metadata": {},
          "execution_count": 23
        }
      ]
    },
    {
      "cell_type": "code",
      "source": [
        "11016.0 - 9216.0"
      ],
      "metadata": {
        "colab": {
          "base_uri": "https://localhost:8080/"
        },
        "id": "1Hk-SF5gw4Ak",
        "outputId": "f8159c72-27d2-4a0d-aac4-4dea0d19530a"
      },
      "execution_count": 24,
      "outputs": [
        {
          "output_type": "execute_result",
          "data": {
            "text/plain": [
              "1800.0"
            ]
          },
          "metadata": {},
          "execution_count": 24
        }
      ]
    },
    {
      "cell_type": "markdown",
      "source": [
        "outra forma de obter a área"
      ],
      "metadata": {
        "id": "16lAUhMNxCjK"
      }
    },
    {
      "cell_type": "code",
      "source": [
        "# obter integral\n",
        "x = smp.Symbol('x')\n",
        "f = 2*x**2\n",
        "smp.integrate(f, (x, minimo, maximo))"
      ],
      "metadata": {
        "colab": {
          "base_uri": "https://localhost:8080/",
          "height": 37
        },
        "id": "2ftTBdtdxGRZ",
        "outputId": "8589bc44-14cd-48ee-88f9-87bac322fab0"
      },
      "execution_count": 25,
      "outputs": [
        {
          "output_type": "execute_result",
          "data": {
            "text/plain": [
              "9216"
            ],
            "text/latex": "$\\displaystyle 9216$"
          },
          "metadata": {},
          "execution_count": 25
        }
      ]
    }
  ]
}